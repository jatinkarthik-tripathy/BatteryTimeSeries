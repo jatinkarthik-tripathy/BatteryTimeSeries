{
  "nbformat": 4,
  "nbformat_minor": 0,
  "metadata": {
    "colab": {
      "name": "battery_timeseries.ipynb",
      "provenance": [],
      "collapsed_sections": [],
      "mount_file_id": "1zQp0ZYDJl8haL8Ze9Qr2pQ0P6ZQgRgow",
      "authorship_tag": "ABX9TyMPLzXRpyU6eNXxczpgZMRV",
      "include_colab_link": true
    },
    "kernelspec": {
      "name": "python3",
      "display_name": "Python 3"
    },
    "language_info": {
      "name": "python"
    },
    "accelerator": "GPU"
  },
  "cells": [
    {
      "cell_type": "markdown",
      "metadata": {
        "id": "view-in-github",
        "colab_type": "text"
      },
      "source": [
        "<a href=\"https://colab.research.google.com/github/jatinkarthik-tripathy/BatteryTimeSeries/blob/master/battery_timeseries.ipynb\" target=\"_parent\"><img src=\"https://colab.research.google.com/assets/colab-badge.svg\" alt=\"Open In Colab\"/></a>"
      ]
    },
    {
      "cell_type": "code",
      "metadata": {
        "id": "fe7ZuLt7BjCs"
      },
      "source": [
        "import pandas as pd\n",
        "import numpy as np\n",
        "import os"
      ],
      "execution_count": 1,
      "outputs": []
    },
    {
      "cell_type": "code",
      "metadata": {
        "colab": {
          "base_uri": "https://localhost:8080/"
        },
        "id": "di21isXnByQa",
        "outputId": "9def1527-21a0-4ae5-cce8-3ef050b29c7b"
      },
      "source": [
        "df = pd.read_csv(\"/content/drive/MyDrive/Battery TimeSeries/timeseries_df.csv\")\n",
        "print(len(df))\n",
        "df.drop(\"Unnamed: 0\", axis=1, inplace=True)\n",
        "print(df.head(10))"
      ],
      "execution_count": 2,
      "outputs": [
        {
          "output_type": "stream",
          "text": [
            "3422401\n",
            "   step0  step1  step2  step3  step4  step5  step6  step7  step8  step9  y_data\n",
            "0    0.0    0.0  0.000  0.000  0.000  0.000  0.000  0.000  0.000  0.000   0.015\n",
            "1    0.0    0.0  0.000  0.000  0.000  0.000  0.000  0.000  0.000  0.000   0.025\n",
            "2    0.0    0.0  0.000  0.000  0.000  0.000  0.000  0.000  0.000  0.025   0.035\n",
            "3    0.0    0.0  0.000  0.000  0.000  0.000  0.000  0.000  0.025  0.035   0.045\n",
            "4    0.0    0.0  0.000  0.000  0.000  0.000  0.000  0.025  0.035  0.045   0.055\n",
            "5    0.0    0.0  0.000  0.000  0.000  0.000  0.025  0.035  0.045  0.055   0.065\n",
            "6    0.0    0.0  0.000  0.000  0.000  0.025  0.035  0.045  0.055  0.065   0.074\n",
            "7    0.0    0.0  0.000  0.000  0.025  0.035  0.045  0.055  0.065  0.074   0.084\n",
            "8    0.0    0.0  0.000  0.025  0.035  0.045  0.055  0.065  0.074  0.084   0.094\n",
            "9    0.0    0.0  0.025  0.035  0.045  0.055  0.065  0.074  0.084  0.094   0.104\n"
          ],
          "name": "stdout"
        }
      ]
    },
    {
      "cell_type": "code",
      "metadata": {
        "colab": {
          "base_uri": "https://localhost:8080/"
        },
        "id": "2GL1_2CTP3Xp",
        "outputId": "d7c344c8-5014-49b0-cd52-f4389cea5b13"
      },
      "source": [
        "from sklearn.model_selection import train_test_split\n",
        "\n",
        "X_data = df.drop(\"y_data\", axis=1)\n",
        "y_data = df[\"y_data\"]\n",
        "X_train, X_test, y_train, y_test = train_test_split(X_data, y_data, test_size=0.33, random_state=42)\n",
        "print(X_train.head())\n",
        "print(X_train.shape)"
      ],
      "execution_count": 3,
      "outputs": [
        {
          "output_type": "stream",
          "text": [
            "         step0  step1  step2  step3  step4  step5  step6  step7  step8  step9\n",
            "2608231  1.338  1.388  1.438  1.487  1.537  1.586  1.635  1.685  1.734  1.783\n",
            "873323   1.412  1.464  1.516  1.567  1.619  1.670  1.721  1.773  1.824  1.875\n",
            "3345811  3.856  3.902  3.948  3.994  4.040  4.086  4.132  4.178  4.223  4.269\n",
            "1573090  6.504  6.550  6.597  6.642  6.688  6.734  6.780  6.826  6.871  6.917\n",
            "988000   2.257  2.266  2.275  2.284  2.293  2.302  2.311  2.320  2.329  2.337\n",
            "(2293008, 10)\n"
          ],
          "name": "stdout"
        }
      ]
    },
    {
      "cell_type": "code",
      "metadata": {
        "colab": {
          "base_uri": "https://localhost:8080/"
        },
        "id": "xBCKe-bHB_5v",
        "outputId": "0db0dddd-6a8f-4b84-aa83-b858a8dd528a"
      },
      "source": [
        "from tensorflow.keras.models import Sequential\n",
        "import tensorflow.keras.layers as TFL\n",
        "import tensorflow as tf\n",
        "model = Sequential(name=\"4xLSTM\")\n",
        "model.add(TFL.Input(shape=(10, 1), name=\"Input\"))\n",
        "model.add(TFL.LSTM(128, name=\"LSTM0\",  return_sequences=True))\n",
        "model.add(TFL.LSTM(128, name=\"LSTM1\", return_sequences=True))\n",
        "model.add(TFL.LSTM(128, name=\"LSTM2\",  return_sequences=True))\n",
        "model.add(TFL.LSTM(128, name=\"LSTM3\"))\n",
        "model.add(TFL.Dense(1, activation='relu', name=\"Output\"))\n",
        "model.compile(loss=\"mse\", \n",
        "              optimizer=tf.keras.optimizers.Adam(), \n",
        "              metrics=[tf.metrics.MeanAbsoluteError()])\n",
        "\n",
        "print(model.summary())"
      ],
      "execution_count": 8,
      "outputs": [
        {
          "output_type": "stream",
          "text": [
            "Model: \"4xLSTM\"\n",
            "_________________________________________________________________\n",
            "Layer (type)                 Output Shape              Param #   \n",
            "=================================================================\n",
            "LSTM0 (LSTM)                 (None, 10, 128)           66560     \n",
            "_________________________________________________________________\n",
            "LSTM1 (LSTM)                 (None, 10, 128)           131584    \n",
            "_________________________________________________________________\n",
            "LSTM2 (LSTM)                 (None, 10, 128)           131584    \n",
            "_________________________________________________________________\n",
            "LSTM3 (LSTM)                 (None, 128)               131584    \n",
            "_________________________________________________________________\n",
            "Output (Dense)               (None, 1)                 129       \n",
            "=================================================================\n",
            "Total params: 461,441\n",
            "Trainable params: 461,441\n",
            "Non-trainable params: 0\n",
            "_________________________________________________________________\n",
            "None\n"
          ],
          "name": "stdout"
        }
      ]
    },
    {
      "cell_type": "code",
      "metadata": {
        "colab": {
          "base_uri": "https://localhost:8080/"
        },
        "id": "MfoRFlk1OiJ8",
        "outputId": "2151a245-e738-4f89-ba5f-6a174e86c5eb"
      },
      "source": [
        "checkpoint_path = \"/content/drive/MyDrive/Battery TimeSeries/4xLSTM-10EPOCHS/checkpoints/cp-{epoch:04d}.ckpt\"\n",
        "checkpoint_dir = os.path.dirname(checkpoint_path)\n",
        "\n",
        "# Create checkpoint callback\n",
        "cp_callback = tf.keras.callbacks.ModelCheckpoint(checkpoint_path, \n",
        "                                                 save_weights_only=True,\n",
        "                                                 verbose=0)\n",
        "\n",
        "logdir = \"/content/drive/MyDrive/Battery TimeSeries/4xLSTM-10EPOCHS/logs/\"\n",
        "tensorboard_callback = tf.keras.callbacks.TensorBoard(logdir, histogram_freq=1)\n",
        "\n",
        "reduce_lr=tf.keras.callbacks.ReduceLROnPlateau(monitor='loss', factor=0.9, \n",
        "                             verbose=1, mode='auto', cooldown=30, min_lr=0.0001)\n",
        "\n",
        "\n",
        "\n",
        "\n",
        "model.fit(np.array(X_train).reshape(-1, X_train.shape[1], 1), y_train, batch_size=32, epochs=10, callbacks=[tensorboard_callback, cp_callback, reduce_lr])\n",
        "\n",
        "model_name = \"4xLSTM-10EPOCHS.h5\"\n",
        "model.save_model(f\"/content/drive/MyDrive/Battery TimeSeries/4xLSTM-10EPOCHS/{model_name}\")"
      ],
      "execution_count": null,
      "outputs": [
        {
          "output_type": "stream",
          "text": [
            "Epoch 1/10\n",
            "28873/71657 [===========>..................] - ETA: 5:19 - loss: 0.9102 - mean_absolute_error: 0.2373"
          ],
          "name": "stdout"
        }
      ]
    },
    {
      "cell_type": "code",
      "metadata": {
        "id": "N6S2GHAA1OjV"
      },
      "source": [
        "model.evaluate(np.array(X_test).reshape(-1, X_test.shape[1], 1), y_test, batch_size=32)"
      ],
      "execution_count": null,
      "outputs": []
    }
  ]
}