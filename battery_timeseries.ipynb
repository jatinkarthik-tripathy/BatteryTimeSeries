{
  "nbformat": 4,
  "nbformat_minor": 0,
  "metadata": {
    "colab": {
      "name": "battery_timeseries.ipynb",
      "provenance": [],
      "collapsed_sections": [],
      "mount_file_id": "1zQp0ZYDJl8haL8Ze9Qr2pQ0P6ZQgRgow",
      "authorship_tag": "ABX9TyPw5Mx7DYPrc3hDT5ssTLXx",
      "include_colab_link": true
    },
    "kernelspec": {
      "name": "python3",
      "display_name": "Python 3"
    },
    "language_info": {
      "name": "python"
    },
    "accelerator": "GPU"
  },
  "cells": [
    {
      "cell_type": "markdown",
      "metadata": {
        "id": "view-in-github",
        "colab_type": "text"
      },
      "source": [
        "<a href=\"https://colab.research.google.com/github/jatinkarthik-tripathy/BatteryTimeSeries/blob/master/battery_timeseries.ipynb\" target=\"_parent\"><img src=\"https://colab.research.google.com/assets/colab-badge.svg\" alt=\"Open In Colab\"/></a>"
      ]
    },
    {
      "cell_type": "markdown",
      "metadata": {
        "id": "kpP_b_88Rdk0"
      },
      "source": [
        "# Imports"
      ]
    },
    {
      "cell_type": "code",
      "metadata": {
        "id": "fe7ZuLt7BjCs"
      },
      "source": [
        "import pandas as pd\n",
        "import numpy as np\n",
        "import os"
      ],
      "execution_count": null,
      "outputs": []
    },
    {
      "cell_type": "markdown",
      "metadata": {
        "id": "6Zr70L2URgL5"
      },
      "source": [
        "# Load Data"
      ]
    },
    {
      "cell_type": "code",
      "metadata": {
        "colab": {
          "base_uri": "https://localhost:8080/"
        },
        "id": "di21isXnByQa",
        "outputId": "6a58ee6c-d5cf-4235-d138-ede98f428d71"
      },
      "source": [
        "df = pd.read_csv(\"/content/drive/MyDrive/Battery TimeSeries/timeseries_df.csv\")\n",
        "print(len(df))\n",
        "df.drop(\"Unnamed: 0\", axis=1, inplace=True)\n",
        "print(df.head(10))"
      ],
      "execution_count": null,
      "outputs": [
        {
          "output_type": "stream",
          "text": [
            "3422401\n",
            "   step0  step1  step2  step3  step4  step5  step6  step7  step8  step9  y_data\n",
            "0    0.0    0.0  0.000  0.000  0.000  0.000  0.000  0.000  0.000  0.000   0.015\n",
            "1    0.0    0.0  0.000  0.000  0.000  0.000  0.000  0.000  0.000  0.000   0.025\n",
            "2    0.0    0.0  0.000  0.000  0.000  0.000  0.000  0.000  0.000  0.025   0.035\n",
            "3    0.0    0.0  0.000  0.000  0.000  0.000  0.000  0.000  0.025  0.035   0.045\n",
            "4    0.0    0.0  0.000  0.000  0.000  0.000  0.000  0.025  0.035  0.045   0.055\n",
            "5    0.0    0.0  0.000  0.000  0.000  0.000  0.025  0.035  0.045  0.055   0.065\n",
            "6    0.0    0.0  0.000  0.000  0.000  0.025  0.035  0.045  0.055  0.065   0.074\n",
            "7    0.0    0.0  0.000  0.000  0.025  0.035  0.045  0.055  0.065  0.074   0.084\n",
            "8    0.0    0.0  0.000  0.025  0.035  0.045  0.055  0.065  0.074  0.084   0.094\n",
            "9    0.0    0.0  0.025  0.035  0.045  0.055  0.065  0.074  0.084  0.094   0.104\n"
          ],
          "name": "stdout"
        }
      ]
    },
    {
      "cell_type": "code",
      "metadata": {
        "colab": {
          "base_uri": "https://localhost:8080/"
        },
        "id": "2GL1_2CTP3Xp",
        "outputId": "da5920b3-b8f8-48fe-c690-498b2cf9bf42"
      },
      "source": [
        "from sklearn.model_selection import train_test_split\n",
        "\n",
        "X_data = df.drop(\"y_data\", axis=1)\n",
        "y_data = df[\"y_data\"]\n",
        "X_train, X_test, y_train, y_test = train_test_split(X_data, y_data, test_size=0.33, random_state=42)\n",
        "print(X_train.head())\n",
        "print(X_train.shape)"
      ],
      "execution_count": null,
      "outputs": [
        {
          "output_type": "stream",
          "text": [
            "         step0  step1  step2  step3  step4  step5  step6  step7  step8  step9\n",
            "2608231  1.338  1.388  1.438  1.487  1.537  1.586  1.635  1.685  1.734  1.783\n",
            "873323   1.412  1.464  1.516  1.567  1.619  1.670  1.721  1.773  1.824  1.875\n",
            "3345811  3.856  3.902  3.948  3.994  4.040  4.086  4.132  4.178  4.223  4.269\n",
            "1573090  6.504  6.550  6.597  6.642  6.688  6.734  6.780  6.826  6.871  6.917\n",
            "988000   2.257  2.266  2.275  2.284  2.293  2.302  2.311  2.320  2.329  2.337\n",
            "(2293008, 10)\n"
          ],
          "name": "stdout"
        }
      ]
    },
    {
      "cell_type": "markdown",
      "metadata": {
        "id": "-IdR0yVjRX7h"
      },
      "source": [
        "# 4xLSTM 10 EPOCHS\n"
      ]
    },
    {
      "cell_type": "code",
      "metadata": {
        "colab": {
          "base_uri": "https://localhost:8080/"
        },
        "id": "xBCKe-bHB_5v",
        "outputId": "6e555591-139d-4743-f246-1d2c07f70f9d"
      },
      "source": [
        "from tensorflow.keras.models import Sequential\n",
        "import tensorflow.keras.layers as TFL\n",
        "import tensorflow as tf\n",
        "model = Sequential(name=\"4xLSTM\")\n",
        "model.add(TFL.Input(shape=(10, 1), name=\"Input\"))\n",
        "model.add(TFL.LSTM(128, name=\"LSTM0\",  return_sequences=True))\n",
        "model.add(TFL.LSTM(128, name=\"LSTM1\", return_sequences=True))\n",
        "model.add(TFL.LSTM(128, name=\"LSTM2\",  return_sequences=True))\n",
        "model.add(TFL.LSTM(128, name=\"LSTM3\"))\n",
        "model.add(TFL.Dense(1, activation='relu', name=\"Output\"))\n",
        "model.compile(loss=\"mse\", \n",
        "              optimizer=tf.keras.optimizers.Adam(), \n",
        "              metrics=[tf.metrics.MeanAbsoluteError()])\n",
        "\n",
        "print(model.summary())"
      ],
      "execution_count": null,
      "outputs": [
        {
          "output_type": "stream",
          "text": [
            "Model: \"4xLSTM\"\n",
            "_________________________________________________________________\n",
            "Layer (type)                 Output Shape              Param #   \n",
            "=================================================================\n",
            "LSTM0 (LSTM)                 (None, 10, 128)           66560     \n",
            "_________________________________________________________________\n",
            "LSTM1 (LSTM)                 (None, 10, 128)           131584    \n",
            "_________________________________________________________________\n",
            "LSTM2 (LSTM)                 (None, 10, 128)           131584    \n",
            "_________________________________________________________________\n",
            "LSTM3 (LSTM)                 (None, 128)               131584    \n",
            "_________________________________________________________________\n",
            "Output (Dense)               (None, 1)                 129       \n",
            "=================================================================\n",
            "Total params: 461,441\n",
            "Trainable params: 461,441\n",
            "Non-trainable params: 0\n",
            "_________________________________________________________________\n",
            "None\n"
          ],
          "name": "stdout"
        }
      ]
    },
    {
      "cell_type": "code",
      "metadata": {
        "id": "MfoRFlk1OiJ8"
      },
      "source": [
        "checkpoint_path = \"/content/drive/MyDrive/Battery TimeSeries/4xLSTM-10EPOCHS/checkpoints/cp-{epoch:04d}.ckpt\"\n",
        "checkpoint_dir = os.path.dirname(checkpoint_path)\n",
        "\n",
        "# Create checkpoint callback\n",
        "cp_callback = tf.keras.callbacks.ModelCheckpoint(checkpoint_path, \n",
        "                                                 save_weights_only=True,\n",
        "                                                 verbose=0)\n",
        "\n",
        "logdir = \"/content/drive/MyDrive/Battery TimeSeries/4xLSTM-10EPOCHS/logs/\"\n",
        "tensorboard_callback = tf.keras.callbacks.TensorBoard(logdir, histogram_freq=1)\n",
        "\n",
        "reduce_lr=tf.keras.callbacks.ReduceLROnPlateau(monitor='loss', factor=0.9, \n",
        "                             verbose=1, mode='auto', cooldown=30, min_lr=0.0001)\n",
        "\n",
        "\n",
        "\n",
        "\n",
        "model.fit(np.array(X_train).reshape(-1, X_train.shape[1], 1), y_train, batch_size=32, epochs=10, callbacks=[tensorboard_callback, cp_callback, reduce_lr])"
      ],
      "execution_count": null,
      "outputs": []
    },
    {
      "cell_type": "code",
      "metadata": {
        "colab": {
          "base_uri": "https://localhost:8080/"
        },
        "id": "N6S2GHAA1OjV",
        "outputId": "b4fafd8a-3eeb-4283-a2fd-3133b3396053"
      },
      "source": [
        "model.evaluate(np.array(X_test).reshape(-1, X_test.shape[1], 1), y_test, batch_size=32)"
      ],
      "execution_count": null,
      "outputs": [
        {
          "output_type": "stream",
          "text": [
            "35294/35294 [==============================] - 144s 4ms/step - loss: 0.1063 - mean_absolute_error: 0.0461\n"
          ],
          "name": "stdout"
        },
        {
          "output_type": "execute_result",
          "data": {
            "text/plain": [
              "[0.10634442418813705, 0.04608534276485443]"
            ]
          },
          "metadata": {
            "tags": []
          },
          "execution_count": 11
        }
      ]
    },
    {
      "cell_type": "code",
      "metadata": {
        "id": "FN6mZyO_ByP_"
      },
      "source": [
        "model_name = \"4xLSTM-10EPOCHS.h5\"\n",
        "model.save(f\"/content/drive/MyDrive/Battery TimeSeries/4xLSTM-10EPOCHS/{model_name}\")"
      ],
      "execution_count": null,
      "outputs": []
    },
    {
      "cell_type": "markdown",
      "metadata": {
        "id": "hYKFs76mTzwa"
      },
      "source": [
        "#8xLSTM [256 units]"
      ]
    },
    {
      "cell_type": "code",
      "metadata": {
        "colab": {
          "base_uri": "https://localhost:8080/"
        },
        "id": "GXCRIrDDS8AZ",
        "outputId": "3f6f9f3d-d408-49ae-a137-eb1fd7a526a7"
      },
      "source": [
        "model = Sequential(name=\"4xLSTM\")\n",
        "model.add(TFL.Input(shape=(10, 1), name=\"Input\"))\n",
        "model.add(TFL.LSTM(256, name=\"LSTM0\",  return_sequences=True))\n",
        "model.add(TFL.LSTM(256, name=\"LSTM1\", return_sequences=True))\n",
        "model.add(TFL.LSTM(256, name=\"LSTM2\",  return_sequences=True))\n",
        "model.add(TFL.LSTM(256, name=\"LSTM3\",  return_sequences=True))\n",
        "model.add(TFL.LSTM(256, name=\"LSTM4\",  return_sequences=True))\n",
        "model.add(TFL.LSTM(256, name=\"LSTM5\",  return_sequences=True))\n",
        "model.add(TFL.LSTM(256, name=\"LSTM6\",  return_sequences=True))\n",
        "model.add(TFL.LSTM(256, name=\"LSTM7\"))\n",
        "model.add(TFL.Dense(1, activation='relu', name=\"Output\"))\n",
        "model.compile(loss=\"mse\", \n",
        "              optimizer=tf.keras.optimizers.Adam(), \n",
        "              metrics=[tf.metrics.MeanAbsoluteError()])\n",
        "\n",
        "print(model.summary())"
      ],
      "execution_count": null,
      "outputs": [
        {
          "output_type": "stream",
          "text": [
            "Model: \"4xLSTM\"\n",
            "_________________________________________________________________\n",
            "Layer (type)                 Output Shape              Param #   \n",
            "=================================================================\n",
            "LSTM0 (LSTM)                 (None, 10, 256)           264192    \n",
            "_________________________________________________________________\n",
            "LSTM1 (LSTM)                 (None, 10, 256)           525312    \n",
            "_________________________________________________________________\n",
            "LSTM2 (LSTM)                 (None, 10, 256)           525312    \n",
            "_________________________________________________________________\n",
            "LSTM3 (LSTM)                 (None, 10, 256)           525312    \n",
            "_________________________________________________________________\n",
            "LSTM4 (LSTM)                 (None, 10, 256)           525312    \n",
            "_________________________________________________________________\n",
            "LSTM5 (LSTM)                 (None, 10, 256)           525312    \n",
            "_________________________________________________________________\n",
            "LSTM6 (LSTM)                 (None, 10, 256)           525312    \n",
            "_________________________________________________________________\n",
            "LSTM7 (LSTM)                 (None, 256)               525312    \n",
            "_________________________________________________________________\n",
            "Output (Dense)               (None, 1)                 257       \n",
            "=================================================================\n",
            "Total params: 3,941,633\n",
            "Trainable params: 3,941,633\n",
            "Non-trainable params: 0\n",
            "_________________________________________________________________\n",
            "None\n"
          ],
          "name": "stdout"
        }
      ]
    },
    {
      "cell_type": "code",
      "metadata": {
        "colab": {
          "base_uri": "https://localhost:8080/"
        },
        "id": "Cc3j89sgUO36",
        "outputId": "848e03b3-ca17-4f0c-c5a7-0faaa8768e09"
      },
      "source": [
        "checkpoint_path = \"/content/drive/MyDrive/Battery TimeSeries/8xLSTM-25EPOCHS/checkpoints/cp-{epoch:04d}.ckpt\"\n",
        "checkpoint_dir = os.path.dirname(checkpoint_path)\n",
        "\n",
        "# Create checkpoint callback\n",
        "cp_callback = tf.keras.callbacks.ModelCheckpoint(checkpoint_path, \n",
        "                                                 save_weights_only=True,\n",
        "                                                 verbose=0)\n",
        "\n",
        "logdir = \"/content/drive/MyDrive/Battery TimeSeries/8xLSTM-25EPOCHS/logs/\"\n",
        "tensorboard_callback = tf.keras.callbacks.TensorBoard(logdir, histogram_freq=1)\n",
        "\n",
        "reduce_lr=tf.keras.callbacks.ReduceLROnPlateau(monitor='loss', factor=0.9, \n",
        "                             verbose=1, mode='auto', cooldown=30, min_lr=0.0001)\n",
        "\n",
        "model.fit(np.array(X_train).reshape(-1, X_train.shape[1], 1), y_train, batch_size=64, epochs=25, callbacks=[tensorboard_callback, cp_callback, reduce_lr])"
      ],
      "execution_count": null,
      "outputs": [
        {
          "output_type": "stream",
          "text": [
            "Epoch 1/25\n",
            "35829/35829 [==============================] - 582s 15ms/step - loss: 0.6908 - mean_absolute_error: 0.2811\n",
            "Epoch 2/25\n",
            "35829/35829 [==============================] - 488s 14ms/step - loss: 0.1757 - mean_absolute_error: 0.1137\n",
            "Epoch 3/25\n",
            "35829/35829 [==============================] - 489s 14ms/step - loss: 0.1355 - mean_absolute_error: 0.0850\n",
            "Epoch 4/25\n",
            "35829/35829 [==============================] - 490s 14ms/step - loss: 0.1210 - mean_absolute_error: 0.0712\n",
            "Epoch 5/25\n",
            "35829/35829 [==============================] - 489s 14ms/step - loss: 0.1353 - mean_absolute_error: 0.0687\n",
            "Epoch 6/25\n",
            "35829/35829 [==============================] - 488s 14ms/step - loss: 0.1346 - mean_absolute_error: 0.0688\n",
            "Epoch 7/25\n",
            "35829/35829 [==============================] - 485s 14ms/step - loss: 0.1158 - mean_absolute_error: 0.0645\n",
            "Epoch 8/25\n",
            "35829/35829 [==============================] - 486s 14ms/step - loss: 0.1126 - mean_absolute_error: 0.0605\n",
            "Epoch 9/25\n",
            "35829/35829 [==============================] - 486s 14ms/step - loss: 0.1184 - mean_absolute_error: 0.0600\n",
            "Epoch 10/25\n",
            "35829/35829 [==============================] - 488s 14ms/step - loss: 0.1156 - mean_absolute_error: 0.0601\n",
            "Epoch 11/25\n",
            "35829/35829 [==============================] - 485s 14ms/step - loss: 0.1115 - mean_absolute_error: 0.0573\n",
            "Epoch 12/25\n",
            "35829/35829 [==============================] - 485s 14ms/step - loss: 0.1096 - mean_absolute_error: 0.0565\n",
            "Epoch 13/25\n",
            "35829/35829 [==============================] - 486s 14ms/step - loss: 0.1074 - mean_absolute_error: 0.0562\n",
            "Epoch 14/25\n",
            "35829/35829 [==============================] - 485s 14ms/step - loss: 0.1104 - mean_absolute_error: 0.0550\n",
            "Epoch 15/25\n",
            "35829/35829 [==============================] - 508s 14ms/step - loss: 0.1138 - mean_absolute_error: 0.0581\n",
            "Epoch 16/25\n",
            "35829/35829 [==============================] - 513s 14ms/step - loss: 0.1110 - mean_absolute_error: 0.0553\n",
            "Epoch 17/25\n",
            "35829/35829 [==============================] - 515s 14ms/step - loss: 0.1057 - mean_absolute_error: 0.0545\n",
            "Epoch 18/25\n",
            "35829/35829 [==============================] - 523s 15ms/step - loss: 0.1090 - mean_absolute_error: 0.0556\n",
            "Epoch 19/25\n",
            "35829/35829 [==============================] - 535s 15ms/step - loss: 0.1069 - mean_absolute_error: 0.0558\n",
            "Epoch 20/25\n",
            "35829/35829 [==============================] - 524s 15ms/step - loss: 0.1053 - mean_absolute_error: 0.0551\n",
            "Epoch 21/25\n",
            "35829/35829 [==============================] - 533s 15ms/step - loss: 0.1055 - mean_absolute_error: 0.0553\n",
            "Epoch 22/25\n",
            "35829/35829 [==============================] - 527s 15ms/step - loss: 0.1138 - mean_absolute_error: 0.0574\n",
            "Epoch 23/25\n",
            "35829/35829 [==============================] - 515s 14ms/step - loss: 0.1100 - mean_absolute_error: 0.0567\n",
            "Epoch 24/25\n",
            "35829/35829 [==============================] - 493s 14ms/step - loss: 0.1069 - mean_absolute_error: 0.0572\n",
            "Epoch 25/25\n",
            "35829/35829 [==============================] - 494s 14ms/step - loss: 0.1074 - mean_absolute_error: 0.0562\n"
          ],
          "name": "stdout"
        },
        {
          "output_type": "execute_result",
          "data": {
            "text/plain": [
              "<tensorflow.python.keras.callbacks.History at 0x7fe059d5bd90>"
            ]
          },
          "metadata": {
            "tags": []
          },
          "execution_count": 9
        }
      ]
    },
    {
      "cell_type": "code",
      "metadata": {
        "colab": {
          "base_uri": "https://localhost:8080/"
        },
        "id": "2dSjOHuyUlhL",
        "outputId": "735bac4e-d016-41d1-b83f-83d36b328d5a"
      },
      "source": [
        "model.evaluate(np.array(X_test).reshape(-1, X_test.shape[1], 1), y_test, batch_size=32)"
      ],
      "execution_count": null,
      "outputs": [
        {
          "output_type": "stream",
          "text": [
            "35294/35294 [==============================] - 235s 7ms/step - loss: 0.1090 - mean_absolute_error: 0.0533\n"
          ],
          "name": "stdout"
        },
        {
          "output_type": "execute_result",
          "data": {
            "text/plain": [
              "[0.109040766954422, 0.05333847552537918]"
            ]
          },
          "metadata": {
            "tags": []
          },
          "execution_count": 10
        }
      ]
    },
    {
      "cell_type": "code",
      "metadata": {
        "id": "fSMHfi8vUn7C"
      },
      "source": [
        "model_name = \"8xLSTM-25EPOCHS.h5\"\n",
        "model.save(f\"/content/drive/MyDrive/Battery TimeSeries/8xLSTM-25EPOCHS/{model_name}\")"
      ],
      "execution_count": null,
      "outputs": []
    },
    {
      "cell_type": "code",
      "metadata": {
        "id": "3moXdSdwU5GU"
      },
      "source": [
        ""
      ],
      "execution_count": null,
      "outputs": []
    }
  ]
}