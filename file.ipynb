{
 "metadata": {
  "language_info": {
   "codemirror_mode": {
    "name": "ipython",
    "version": 3
   },
   "file_extension": ".py",
   "mimetype": "text/x-python",
   "name": "python",
   "nbconvert_exporter": "python",
   "pygments_lexer": "ipython3",
   "version": "3.8.5"
  },
  "orig_nbformat": 2,
  "kernelspec": {
   "name": "python38564bitf6e301224bd24af4ac40e43133775878",
   "display_name": "Python 3.8.5 64-bit",
   "language": "python"
  }
 },
 "nbformat": 4,
 "nbformat_minor": 2,
 "cells": [
  {
   "source": [
    "# Data Load"
   ],
   "cell_type": "markdown",
   "metadata": {}
  },
  {
   "cell_type": "code",
   "execution_count": 1,
   "metadata": {},
   "outputs": [],
   "source": [
    "import pandas as pd\n",
    "import numpy as np"
   ]
  },
  {
   "cell_type": "code",
   "execution_count": 2,
   "metadata": {},
   "outputs": [
    {
     "output_type": "stream",
     "name": "stdout",
     "text": [
      "(651031, 11)\nIndex(['Date_Time', 'Test_Time (s)', 'Cycle_Index', 'Current (A)',\n       'Voltage (V)', 'Charge_Capacity (Ah)', 'Discharge_Capacity (Ah)',\n       'Charge_Energy (Wh)', 'Discharge_Energy (Wh)',\n       'Environment_Temperature (C)', 'Cell_Temperature (C)'],\n      dtype='object')\n               Date_Time  Test_Time (s)  Cycle_Index  Current (A)  \\\n200  2013-05-22 12:10:40       1453.311          1.0       -1.398   \n201  2013-05-22 12:10:47       1460.318          1.0       -1.398   \n202  2013-05-22 12:10:53       1467.295          1.0       -1.398   \n203  2013-05-22 12:11:01       1474.302          1.0       -1.398   \n204  2013-05-22 12:11:08       1481.311          1.0       -1.398   \n205  2013-05-22 12:11:15       1488.318          1.0       -1.398   \n206  2013-05-22 12:11:21       1495.295          1.0       -1.398   \n207  2013-05-22 12:11:29       1502.302          1.0       -1.398   \n208  2013-05-22 12:11:36       1509.311          1.0       -1.398   \n209  2013-05-22 12:11:43       1516.318          1.0       -1.398   \n\n     Voltage (V)  Charge_Capacity (Ah)  Discharge_Capacity (Ah)  \\\n200        3.549                   0.0                    0.539   \n201        3.548                   0.0                    0.542   \n202        3.547                   0.0                    0.545   \n203        3.546                   0.0                    0.548   \n204        3.544                   0.0                    0.550   \n205        3.543                   0.0                    0.553   \n206        3.542                   0.0                    0.556   \n207        3.541                   0.0                    0.558   \n208        3.540                   0.0                    0.561   \n209        3.539                   0.0                    0.564   \n\n     Charge_Energy (Wh)  Discharge_Energy (Wh)  Environment_Temperature (C)  \\\n200                 0.0                  1.949                          NaN   \n201                 0.0                  1.959                          NaN   \n202                 0.0                  1.969                          NaN   \n203                 0.0                  1.978                          NaN   \n204                 0.0                  1.988                          NaN   \n205                 0.0                  1.998                          NaN   \n206                 0.0                  2.007                          NaN   \n207                 0.0                  2.017                          NaN   \n208                 0.0                  2.027                          NaN   \n209                 0.0                  2.036                          NaN   \n\n     Cell_Temperature (C)  \n200                   NaN  \n201                   NaN  \n202                   NaN  \n203                   NaN  \n204                   NaN  \n205                   NaN  \n206                   NaN  \n207                   NaN  \n208                   NaN  \n209                   NaN  \n"
     ]
    }
   ],
   "source": [
    "df = pd.read_csv(\"batteryarchive/HNEI_18650_NMC_LCO_25C_0-100_0.5-1.5C_a_timeseries.csv\")\n",
    "print(df.shape)\n",
    "print(df.columns)\n",
    "print(df[200:210])"
   ]
  },
  {
   "cell_type": "code",
   "execution_count": 3,
   "metadata": {},
   "outputs": [
    {
     "output_type": "stream",
     "name": "stdout",
     "text": [
      "                                    cell_id study  cathode     anode  \\\n0   HNEI_18650_NMC_LCO_25C_0-100_0.5-1.5C_a  HNEI  NMC-LCO  graphite   \n1   HNEI_18650_NMC_LCO_25C_0-100_0.5-1.5C_b  HNEI  NMC-LCO  graphite   \n2   HNEI_18650_NMC_LCO_25C_0-100_0.5-1.5C_c  HNEI  NMC-LCO  graphite   \n3   HNEI_18650_NMC_LCO_25C_0-100_0.5-1.5C_d  HNEI  NMC-LCO  graphite   \n4   HNEI_18650_NMC_LCO_25C_0-100_0.5-1.5C_e  HNEI  NMC-LCO  graphite   \n5   HNEI_18650_NMC_LCO_25C_0-100_0.5-1.5C_f  HNEI  NMC-LCO  graphite   \n6   HNEI_18650_NMC_LCO_25C_0-100_0.5-1.5C_g  HNEI  NMC-LCO  graphite   \n7   HNEI_18650_NMC_LCO_25C_0-100_0.5-1.5C_j  HNEI  NMC-LCO  graphite   \n8   HNEI_18650_NMC_LCO_25C_0-100_0.5-1.5C_l  HNEI  NMC-LCO  graphite   \n9   HNEI_18650_NMC_LCO_25C_0-100_0.5-1.5C_m  HNEI  NMC-LCO  graphite   \n10  HNEI_18650_NMC_LCO_25C_0-100_0.5-1.5C_n  HNEI  NMC-LCO  graphite   \n11  HNEI_18650_NMC_LCO_25C_0-100_0.5-1.5C_o  HNEI  NMC-LCO  graphite   \n12  HNEI_18650_NMC_LCO_25C_0-100_0.5-1.5C_p  HNEI  NMC-LCO  graphite   \n13  HNEI_18650_NMC_LCO_25C_0-100_0.5-1.5C_s  HNEI  NMC-LCO  graphite   \n14  HNEI_18650_NMC_LCO_25C_0-100_0.5-1.5C_t  HNEI  NMC-LCO  graphite   \n\n    temperature  min_soc  max_soc  charge_crate  discharge_crate  capacity_ah  \\\n0            25        0      100           0.5              1.5          2.8   \n1            25        0      100           0.5              1.5          2.8   \n2            25        0      100           0.5              1.5          2.8   \n3            25        0      100           0.5              1.5          2.8   \n4            25        0      100           0.5              1.5          2.8   \n5            25        0      100           0.5              1.5          2.8   \n6            25        0      100           0.5              1.5          2.8   \n7            25        0      100           0.5              1.5          2.8   \n8            25        0      100           0.5              1.5          2.8   \n9            25        0      100           0.5              1.5          2.8   \n10           25        0      100           0.5              1.5          2.8   \n11           25        0      100           0.5              1.5          2.8   \n12           25        0      100           0.5              1.5          2.8   \n13           25        0      100           0.5              1.5          2.8   \n14           25        0      100           0.5              1.5          2.8   \n\n   form_factor  \n0        18650  \n1        18650  \n2        18650  \n3        18650  \n4        18650  \n5        18650  \n6        18650  \n7        18650  \n8        18650  \n9        18650  \n10       18650  \n11       18650  \n12       18650  \n13       18650  \n14       18650  \n"
     ]
    }
   ],
   "source": [
    "HNEI_cycles = pd.read_csv(\"batteryarchive/metadata.csv\")\n",
    "HNEI_cycles = HNEI_cycles[:15]\n",
    "print(HNEI_cycles.head(20))"
   ]
  },
  {
   "cell_type": "code",
   "execution_count": 4,
   "metadata": {},
   "outputs": [],
   "source": [
    "discharge_energy = []\n",
    "time = []\n",
    "for i in range(len(HNEI_cycles)):\n",
    "    df = pd.read_csv(\"batteryarchive/\" + HNEI_cycles.iloc[i][\"cell_id\"] + \"_timeseries.csv\")\n",
    "    df = df[[\"Test_Time (s)\", \"Discharge_Energy (Wh)\"]]\n",
    "    df =df[~df.isin([np.nan, np.inf, -np.inf]).any(1)]\n",
    "    discharge_energy.extend(df[\"Discharge_Energy (Wh)\"])\n",
    "    time.extend(df[\"Test_Time (s)\"])"
   ]
  },
  {
   "cell_type": "code",
   "execution_count": 5,
   "metadata": {},
   "outputs": [
    {
     "output_type": "stream",
     "name": "stdout",
     "text": [
      "9087234 9087234\n"
     ]
    }
   ],
   "source": [
    "print(len(discharge_energy), len(time))"
   ]
  },
  {
   "source": [
    "# Save CSV"
   ],
   "cell_type": "markdown",
   "metadata": {}
  },
  {
   "cell_type": "code",
   "execution_count": null,
   "metadata": {},
   "outputs": [],
   "source": [
    "data = {\n",
    "    'Time' : time,\n",
    "    'Discharge Energy' : discharge_energy,\n",
    "}"
   ]
  },
  {
   "source": [
    "# Train Test Split"
   ],
   "cell_type": "markdown",
   "metadata": {}
  },
  {
   "cell_type": "code",
   "execution_count": 7,
   "metadata": {},
   "outputs": [
    {
     "output_type": "stream",
     "name": "stdout",
     "text": [
      "6088446\n"
     ]
    }
   ],
   "source": [
    "from sklearn.model_selection import train_test_split\n",
    "\n",
    "X_train, X_test, y_train, y_test = train_test_split(time, discharge_energy, test_size=0.33, random_state=42)\n",
    "print(len(X_train))"
   ]
  },
  {
   "source": [
    "# SGD Regressor"
   ],
   "cell_type": "markdown",
   "metadata": {}
  },
  {
   "cell_type": "code",
   "execution_count": 15,
   "metadata": {},
   "outputs": [
    {
     "output_type": "execute_result",
     "data": {
      "text/plain": [
       "-1.9510534205967178e+42"
      ]
     },
     "metadata": {},
     "execution_count": 15
    }
   ],
   "source": [
    "from sklearn.linear_model import SGDRegressor\n",
    "\n",
    "model = SGDRegressor().fit(np.array(X_train).reshape(-1, 1), y_train)\n",
    "model.score(np.array(X_test).reshape(-1, 1), y_test)"
   ]
  },
  {
   "source": [
    "# TensorFlow "
   ],
   "cell_type": "markdown",
   "metadata": {}
  },
  {
   "cell_type": "code",
   "execution_count": 6,
   "metadata": {},
   "outputs": [
    {
     "output_type": "stream",
     "name": "stdout",
     "text": [
      "2.4.1\n"
     ]
    }
   ],
   "source": [
    "import tensorflow as tf \n",
    "print(tf.__version__)"
   ]
  },
  {
   "cell_type": "code",
   "execution_count": null,
   "metadata": {},
   "outputs": [],
   "source": []
  }
 ]
}